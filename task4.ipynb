{
  "metadata": {
    "kernelspec": {
      "name": "python",
      "display_name": "Python (Pyodide)",
      "language": "python"
    },
    "language_info": {
      "codemirror_mode": {
        "name": "python",
        "version": 3
      },
      "file_extension": ".py",
      "mimetype": "text/x-python",
      "name": "python",
      "nbconvert_exporter": "python",
      "pygments_lexer": "ipython3",
      "version": "3.8"
    }
  },
  "nbformat_minor": 4,
  "nbformat": 4,
  "cells": [
    {
      "cell_type": "code",
      "source": "import pandas as pd\nfrom math import log\nimport os",
      "metadata": {
        "trusted": true
      },
      "outputs": [],
      "execution_count": 1
    },
    {
      "cell_type": "code",
      "source": "\ncwd = os.getcwd()\n\nprint(\"Current working directory: {0}\".format(cwd))\n\nprint (\"os.getcwd() returns an object of type {0}\".format(type(cwd)))",
      "metadata": {
        "trusted": true
      },
      "outputs": [
        {
          "name": "stdout",
          "text": "Current working directory: /drive/notebooks\nos.getcwd() returns an object of type <class 'str'>\n",
          "output_type": "stream"
        }
      ],
      "execution_count": 2
    },
    {
      "cell_type": "code",
      "source": "# insert path here\nos.chdir (\"/\")\n\ndf = pd.read_csv('loan_data_created.csv')\n\nx = df['default'].to_list()\ny = df['fico_score'].to_list()\nn = len(x)\nprint (len(x), len(y))\n\ndefault = [0 for i in range(851)]\ntotal = [0 for i in range(851)]\n\nfor i in range(n):\n    y[i] = int(y[i])\n    default[y[i]-300] += x[i]\n    total[y[i]-300] += 1\n    \nfor i in range(0, 551):\n    default[i] += default[i-1]\n    total[i] += total[i-1]\n    \nimport numpy as np\n    \ndef log_likelihood(n, k):\n    p = k/n\n    if (p==0 or p==1):\n        return 0\n    return k*np.log(p)+ (n-k)*np.log(1-p)\n\nr = 10\ndp = [[[-10**18, 0] for i in range(551)] for j in range(r+1)]\n\nfor i in range(r+1):\n    for j in range(551):\n        if (i==0):\n            dp[i][j][0] = 0\n        else:\n            for k in range(j):\n                if (total[j]==total[k]):\n                    continue\n                if (i==1):\n                    dp[i][j][0] = log_likelihood(total[j], default[j])\n                else:\n                    if (dp[i][j][0] < (dp[i-1][k][0] + log_likelihood(total[j]-total[k], default[j] - default[k]))):\n                        dp[i][j][0] = log_likelihood(total[j]-total[k], default[j]-default[k]) + dp[i-1][k][0]\n                        dp[i][j][1] = k\n                                                     \nprint (round(dp[r][550][0], 4))\n                                                     \nk = 550\nl = []\nwhile r >= 0:\n    l.append(k+300)\n    k = dp[r][k][1]\n    r -= 1\n\nprint(l)",
      "metadata": {
        "trusted": true
      },
      "outputs": [
        {
          "ename": "<class 'NameError'>",
          "evalue": "name 'pd' is not defined",
          "traceback": [
            "\u001b[0;31m---------------------------------------------------------------------------\u001b[0m",
            "\u001b[0;31mNameError\u001b[0m                                 Traceback (most recent call last)",
            "Cell \u001b[0;32mIn[1], line 1\u001b[0m\n\u001b[0;32m----> 1\u001b[0m df \u001b[38;5;241m=\u001b[39m \u001b[43mpd\u001b[49m\u001b[38;5;241m.\u001b[39mread_csv(\u001b[38;5;124m'\u001b[39m\u001b[38;5;124mloan_data_created.csv\u001b[39m\u001b[38;5;124m'\u001b[39m)\n\u001b[1;32m      3\u001b[0m x \u001b[38;5;241m=\u001b[39m df[\u001b[38;5;124m'\u001b[39m\u001b[38;5;124mdefault\u001b[39m\u001b[38;5;124m'\u001b[39m]\u001b[38;5;241m.\u001b[39mto_list()\n\u001b[1;32m      4\u001b[0m y \u001b[38;5;241m=\u001b[39m df[\u001b[38;5;124m'\u001b[39m\u001b[38;5;124mfico_score\u001b[39m\u001b[38;5;124m'\u001b[39m]\u001b[38;5;241m.\u001b[39mto_list()\n",
            "\u001b[0;31mNameError\u001b[0m: name 'pd' is not defined"
          ],
          "output_type": "error"
        }
      ],
      "execution_count": 1
    },
    {
      "cell_type": "code",
      "source": "",
      "metadata": {
        "trusted": true
      },
      "outputs": [],
      "execution_count": null
    }
  ]
}